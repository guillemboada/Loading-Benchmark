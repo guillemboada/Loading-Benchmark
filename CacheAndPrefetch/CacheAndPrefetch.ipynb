{
 "cells": [
  {
   "cell_type": "markdown",
   "metadata": {},
   "source": [
    "# Cache and prefetch\n",
    "Demonstration of how they influence the training time."
   ]
  },
  {
   "cell_type": "code",
   "execution_count": 1,
   "metadata": {},
   "outputs": [],
   "source": [
    "import tensorflow as tf\n",
    "from time import sleep\n",
    "\n",
    "\n",
    "OPEN_FILE_TIME = 0.03\n",
    "READ_SAMPLE_TIME = 0.015\n",
    "TRAIN_STEP_TIME = 0.01\n",
    "SAMPLES = 3\n",
    "EPOCHS = 2\n",
    "\n",
    "\n",
    "class FileDataset(tf.data.Dataset):\n",
    "    \n",
    "    def read_files_in_batches(samples_number):\n",
    "        # Open file\n",
    "        sleep(OPEN_FILE_TIME)\n",
    "        for sample_idx in range(samples_number):\n",
    "            sleep(READ_SAMPLE_TIME)\n",
    "            yield (sample_idx,)\n",
    "\n",
    "    def __new__(cls, samples_number=SAMPLES):\n",
    "        print(\"FileDataset created.\")\n",
    "        dataset = tf.data.Dataset.from_generator(\n",
    "            cls.read_files_in_batches,\n",
    "            output_signature=tf.TensorSpec(shape=(1,), dtype=tf.int64),\n",
    "            args=(samples_number,)\n",
    "        )\n",
    "\n",
    "        return dataset\n",
    "\n",
    "def train(dataset, epochs=EPOCHS):\n",
    "    for epoch_i in range(epochs):\n",
    "        for sample in dataset:\n",
    "            sleep(TRAIN_STEP_TIME)"
   ]
  },
  {
   "cell_type": "code",
   "execution_count": 2,
   "metadata": {},
   "outputs": [
    {
     "name": "stdout",
     "output_type": "stream",
     "text": [
      "FileDataset created.\n"
     ]
    }
   ],
   "source": [
    "dataset = FileDataset()"
   ]
  },
  {
   "cell_type": "markdown",
   "metadata": {},
   "source": [
    "##### Without `.prefetch()`:"
   ]
  },
  {
   "cell_type": "markdown",
   "metadata": {},
   "source": [
    "# ![title](NoPrefetchTimeline.png)"
   ]
  },
  {
   "cell_type": "code",
   "execution_count": 3,
   "metadata": {},
   "outputs": [
    {
     "name": "stdout",
     "output_type": "stream",
     "text": [
      "Estimated time: 0.21000 seconds\n"
     ]
    }
   ],
   "source": [
    "# Estimation if everything runing in CPU\n",
    "estimated_time = (\n",
    "    # Time for a single epoch\n",
    "    (\n",
    "        OPEN_FILE_TIME \n",
    "        + READ_SAMPLE_TIME * SAMPLES\n",
    "        + TRAIN_STEP_TIME * SAMPLES\n",
    "    )\n",
    "    # Times the number of epochs\n",
    "    * EPOCHS\n",
    ")\n",
    "print(f\"Estimated time: {estimated_time:.5f} seconds\")"
   ]
  },
  {
   "cell_type": "code",
   "execution_count": 4,
   "metadata": {},
   "outputs": [
    {
     "name": "stdout",
     "output_type": "stream",
     "text": [
      "354 ms ± 16.2 ms per loop (mean ± std. dev. of 7 runs, 1 loop each)\n"
     ]
    }
   ],
   "source": [
    "%%timeit\n",
    "train(dataset)"
   ]
  },
  {
   "cell_type": "markdown",
   "metadata": {},
   "source": [
    "Required times is higher than estimated time because we only counted the sleep times and completely ignored the processing times for the rest of operations."
   ]
  },
  {
   "cell_type": "markdown",
   "metadata": {},
   "source": [
    "##### With `.prefetch()`:"
   ]
  },
  {
   "cell_type": "markdown",
   "metadata": {},
   "source": [
    "# ![title](PrefetchTimeline.png)"
   ]
  },
  {
   "cell_type": "code",
   "execution_count": 5,
   "metadata": {},
   "outputs": [
    {
     "name": "stdout",
     "output_type": "stream",
     "text": [
      "Estimated time: 0.21000 seconds\n"
     ]
    }
   ],
   "source": [
    "# Estimation\n",
    "estimated_time = (\n",
    "    # Time for a single epoch\n",
    "    (\n",
    "        OPEN_FILE_TIME \n",
    "        + READ_SAMPLE_TIME * SAMPLES\n",
    "        + TRAIN_STEP_TIME * SAMPLES\n",
    "    )\n",
    "    # Times the number of epochs\n",
    "    * EPOCHS\n",
    ")\n",
    "print(f\"Estimated time: {estimated_time:.5f} seconds\")"
   ]
  },
  {
   "cell_type": "code",
   "execution_count": 6,
   "metadata": {},
   "outputs": [
    {
     "name": "stdout",
     "output_type": "stream",
     "text": [
      "294 ms ± 11 ms per loop (mean ± std. dev. of 7 runs, 1 loop each)\n"
     ]
    }
   ],
   "source": [
    "%%timeit\n",
    "train(dataset.prefetch(buffer_size=1)) # tf.data.AUTOTUNE"
   ]
  },
  {
   "cell_type": "code",
   "execution_count": 7,
   "metadata": {},
   "outputs": [
    {
     "name": "stdout",
     "output_type": "stream",
     "text": [
      "287 ms ± 16.1 ms per loop (mean ± std. dev. of 7 runs, 1 loop each)\n"
     ]
    }
   ],
   "source": [
    "%%timeit\n",
    "train(dataset.prefetch(buffer_size=2)) # tf.data.AUTOTUNE"
   ]
  },
  {
   "cell_type": "code",
   "execution_count": 8,
   "metadata": {},
   "outputs": [
    {
     "name": "stdout",
     "output_type": "stream",
     "text": [
      "293 ms ± 34.9 ms per loop (mean ± std. dev. of 7 runs, 1 loop each)\n"
     ]
    }
   ],
   "source": [
    "%%timeit\n",
    "train(dataset.prefetch(buffer_size=tf.data.AUTOTUNE))"
   ]
  },
  {
   "cell_type": "markdown",
   "metadata": {},
   "source": [
    "##### Without `cache()`:"
   ]
  },
  {
   "cell_type": "markdown",
   "metadata": {},
   "source": [
    "# ![title](NoCacheTimeline.png)"
   ]
  },
  {
   "cell_type": "code",
   "execution_count": 9,
   "metadata": {},
   "outputs": [
    {
     "name": "stdout",
     "output_type": "stream",
     "text": [
      "317 ms ± 20.3 ms per loop (mean ± std. dev. of 7 runs, 1 loop each)\n"
     ]
    }
   ],
   "source": [
    "%%timeit\n",
    "train(dataset)"
   ]
  },
  {
   "cell_type": "markdown",
   "metadata": {},
   "source": [
    "##### With `cache()`:"
   ]
  },
  {
   "cell_type": "markdown",
   "metadata": {},
   "source": [
    "# ![title](CacheTimeline.png)"
   ]
  },
  {
   "cell_type": "code",
   "execution_count": 10,
   "metadata": {},
   "outputs": [
    {
     "name": "stdout",
     "output_type": "stream",
     "text": [
      "Estimated time: 0.13500 seconds\n"
     ]
    }
   ],
   "source": [
    "# Estimation\n",
    "estimated_time = (\n",
    "    # Opening and reading only need to be done once\n",
    "    OPEN_FILE_TIME \n",
    "    + READ_SAMPLE_TIME * SAMPLES\n",
    "    # Training \n",
    "    + (TRAIN_STEP_TIME * SAMPLES) * EPOCHS\n",
    "\n",
    "    \n",
    ")\n",
    "print(f\"Estimated time: {estimated_time:.5f} seconds\")"
   ]
  },
  {
   "cell_type": "code",
   "execution_count": 11,
   "metadata": {},
   "outputs": [
    {
     "name": "stdout",
     "output_type": "stream",
     "text": [
      "233 ms ± 15 ms per loop (mean ± std. dev. of 7 runs, 1 loop each)\n"
     ]
    }
   ],
   "source": [
    "%%timeit\n",
    "train(dataset.cache())"
   ]
  }
 ],
 "metadata": {
  "interpreter": {
   "hash": "58886dbc51c701765a145fede996f231e6e9abd954a0ae8560bae4586f646ecb"
  },
  "kernelspec": {
   "display_name": "Python 3.8.8 64-bit ('base': conda)",
   "language": "python",
   "name": "python3"
  },
  "language_info": {
   "codemirror_mode": {
    "name": "ipython",
    "version": 3
   },
   "file_extension": ".py",
   "mimetype": "text/x-python",
   "name": "python",
   "nbconvert_exporter": "python",
   "pygments_lexer": "ipython3",
   "version": "3.8.8"
  },
  "orig_nbformat": 4
 },
 "nbformat": 4,
 "nbformat_minor": 2
}
